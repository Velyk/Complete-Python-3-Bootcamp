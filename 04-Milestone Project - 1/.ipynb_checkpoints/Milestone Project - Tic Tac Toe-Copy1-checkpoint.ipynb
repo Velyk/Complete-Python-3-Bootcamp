{
 "cells": [
  {
   "cell_type": "code",
   "execution_count": 1,
   "metadata": {},
   "outputs": [],
   "source": [
    "from IPython.display import clear_output\n",
    "\n",
    "def display_board(board):\n",
    "    \n",
    "    clear_output()\n",
    "    print(\" | | \" )\n",
    "    print(board[7] + \"|\" + board[8] + \"|\" + board[9])\n",
    "    print(\"_|_|_\" )\n",
    "    print(\" | | \" )\n",
    "    print(board[4] + \"|\" + board[5] + \"|\" + board[6])\n",
    "    print(\"_|_|_\" )\n",
    "    print(\" | | \" )\n",
    "    print(board[1] + \"|\" + board[2] + \"|\" + board[3])\n",
    "    print(\" | | \" )"
   ]
  },
  {
   "cell_type": "code",
   "execution_count": 2,
   "metadata": {},
   "outputs": [],
   "source": [
    "game_board = ['#',' ',' ',' ',' ',' ',' ',' ',' ',' ']"
   ]
  },
  {
   "cell_type": "code",
   "execution_count": 3,
   "metadata": {},
   "outputs": [],
   "source": [
    "def player_input():\n",
    "    \n",
    "    choice = \"Wrong\"\n",
    "    \n",
    "    while choice not in [\"X\",\"O\",\"x\",\"o\"]:\n",
    "        \n",
    "        choice = input(\"Player 1: please select X or O: \")\n",
    "           \n",
    "    player1 = choice.upper()\n",
    "    \n",
    "    if player1 == \"X\":\n",
    "        player2 = \"O\"\n",
    "    \n",
    "    else:\n",
    "        player2 = \"X\"\n",
    "        \n",
    "    return (player1,player2)"
   ]
  },
  {
   "cell_type": "code",
   "execution_count": 20,
   "metadata": {},
   "outputs": [],
   "source": [
    "## DETERMINE PLAYER ORDER\n",
    "\n",
    "import random\n",
    "\n",
    "def choose_first():\n",
    "    \n",
    "    first = random.randint(1, 2)\n",
    "    \n",
    "    if first == 1:\n",
    "        return \"Player 1\"\n",
    "    else:\n",
    "        return \"Player 2\""
   ]
  },
  {
   "cell_type": "code",
   "execution_count": 21,
   "metadata": {},
   "outputs": [],
   "source": [
    "def place_marker(board, marker, position):\n",
    "    board[position] = marker"
   ]
  },
  {
   "cell_type": "code",
   "execution_count": 5,
   "metadata": {},
   "outputs": [],
   "source": [
    "from IPython.display import clear_output\n",
    "\n",
    "def space_check(board, position):\n",
    "\n",
    "    return board[position] == \" \"\n",
    "        \n",
    "        "
   ]
  },
  {
   "cell_type": "code",
   "execution_count": 6,
   "metadata": {},
   "outputs": [],
   "source": [
    "def full_board_check(board):\n",
    "    \n",
    "    for i in range(1,10):\n",
    "        if space_check(board,i):\n",
    "            return False\n",
    "        \n",
    "    #Board is full if we return True\n",
    "    return True\n"
   ]
  },
  {
   "cell_type": "code",
   "execution_count": 7,
   "metadata": {},
   "outputs": [],
   "source": [
    "def player_choice(board):\n",
    "    \n",
    "        position = \"Wrong\"\n",
    "        \n",
    "        while position not in range(1,10) or not space_check(board,position):\n",
    "        \n",
    "            position = int(input(\"Please select a board position from 1 to 9: \"))\n",
    "        \n",
    "        return position\n"
   ]
  },
  {
   "cell_type": "code",
   "execution_count": 8,
   "metadata": {},
   "outputs": [],
   "source": [
    "def win_check(board, mark):\n",
    "    \n",
    "    return ((board[1] == board[2] == board[3] == mark) or\n",
    "    (board[4] == board[5] == board[6] == mark) or\n",
    "    (board[7] == board[8] == board[9] == mark) or\n",
    "    (board[8] == board[2] == board[5] == mark) or\n",
    "    (board[1] == board[5] == board[9] == mark) or\n",
    "    (board[7] == board[5] == board[3] == mark) or\n",
    "    (board[7] == board[4] == board[1] == mark) or\n",
    "    (board[9] == board[6] == board[3] == mark))\n",
    "\n"
   ]
  },
  {
   "cell_type": "code",
   "execution_count": 15,
   "metadata": {},
   "outputs": [],
   "source": [
    "\n",
    "def replay():\n",
    "    \n",
    "    again = input(\"Do you want to play again? (type Y or N): \").upper()\n",
    "                \n",
    "\n",
    "    return again == \"Y\"\n"
   ]
  },
  {
   "cell_type": "code",
   "execution_count": 10,
   "metadata": {},
   "outputs": [],
   "source": [
    "def check_winner():\n",
    "         \n",
    "    if win_check(game_board,p1) == True:\n",
    "        \n",
    "        print(\"Player 1 Wins!!!\")\n",
    "        \n",
    "        gameon = replay()\n",
    "\n",
    "        \n",
    "    \n",
    "    elif win_check(game_board,p2) == True:\n",
    "        \n",
    "        print(\"Player 2 Wins!!!\")\n",
    "        \n",
    "        gameon = replay()     \n"
   ]
  },
  {
   "cell_type": "code",
   "execution_count": 23,
   "metadata": {},
   "outputs": [
    {
     "name": "stdout",
     "output_type": "stream",
     "text": [
      " | | \n",
      "O|X|O\n",
      "_|_|_\n",
      " | | \n",
      "X|O|O\n",
      "_|_|_\n",
      " | | \n",
      "X|O|X\n",
      " | | \n",
      "The game is a TIE\n",
      "Do you want to play again? (type Y or N): y\n",
      "Player 1: please select X or O: x\n",
      "Player 2 will go first\n",
      "Ready to play? Y or N? :n\n",
      "Do you want to play again? (type Y or N): n\n"
     ]
    }
   ],
   "source": [
    "print('''Welcome to Tic Tac Toe!\n",
    "\n",
    "''')\n",
    "\n",
    "while True:\n",
    "    \n",
    "    #Play the game\n",
    "    \n",
    "    #Set everything up (board, whos first, choose markers)\n",
    "    \n",
    "    game_board = [\" \"]*10\n",
    "    \n",
    "    player1_marker, player2_marker = player_input()\n",
    "    \n",
    "    turn = choose_first()\n",
    "    print(turn + \" will go first\")\n",
    "    \n",
    "    play_game = input(\"Ready to play? Y or N? :\")\n",
    "    \n",
    "    if play_game.upper()[0] == \"Y\":\n",
    "        game_on = True\n",
    "    else:\n",
    "        game_on = False\n",
    "    \n",
    "    #game play\n",
    "    \n",
    "    while game_on:\n",
    "        \n",
    "        if turn == \"Player 1\":\n",
    "            \n",
    "            ###player 1 turn\n",
    "            \n",
    "            display_board(game_board)\n",
    "\n",
    "            #Choose a Position\n",
    "            position = player_choice(game_board)\n",
    "            \n",
    "            #Place the marker\n",
    "            place_marker(game_board,player1_marker, position)\n",
    "            #check if they won\n",
    "            if win_check(game_board,player1_marker):\n",
    "                display_board(game_board)\n",
    "                print(\"Player 1 has won!!\")\n",
    "                game_on = False\n",
    "            else: \n",
    "                if full_board_check(game_board):\n",
    "                    display_board(game_board)\n",
    "                    print(\"The game is a TIE\")\n",
    "                    break\n",
    "                else:\n",
    "                    turn = \"Player 2\"\n",
    "            #No tie and no win? Next player's turn\n",
    "\n",
    "        else:\n",
    "            ###player 2 turn\n",
    "            display_board(game_board)\n",
    "\n",
    "            #Choose a Position\n",
    "            position = player_choice(game_board)\n",
    "            \n",
    "            #Place the marker\n",
    "            place_marker(game_board,player2_marker, position)\n",
    "            #check if they won\n",
    "            if win_check(game_board,player2_marker):\n",
    "                display_board(game_board)\n",
    "                print(\"Player 2 has won!!\")\n",
    "                game_on = False\n",
    "            else: \n",
    "                if full_board_check(game_board):\n",
    "                    display_board(game_board)\n",
    "                    print(\"The game is a TIE\")\n",
    "                    break\n",
    "                else:\n",
    "                    turn = \"Player 1\"\n",
    "    \n",
    "    if not replay():\n",
    "        break"
   ]
  },
  {
   "cell_type": "code",
   "execution_count": null,
   "metadata": {},
   "outputs": [],
   "source": []
  }
 ],
 "metadata": {
  "kernelspec": {
   "display_name": "Python 3",
   "language": "python",
   "name": "python3"
  },
  "language_info": {
   "codemirror_mode": {
    "name": "ipython",
    "version": 3
   },
   "file_extension": ".py",
   "mimetype": "text/x-python",
   "name": "python",
   "nbconvert_exporter": "python",
   "pygments_lexer": "ipython3",
   "version": "3.7.6"
  }
 },
 "nbformat": 4,
 "nbformat_minor": 4
}
